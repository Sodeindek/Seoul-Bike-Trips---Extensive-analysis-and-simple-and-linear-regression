{
 "cells": [
  {
   "cell_type": "markdown",
   "id": "8db5cbee",
   "metadata": {},
   "source": [
    "# Introduction\n",
    "#### Currently Rental bikes are introduced in many urban cities for the enhancement of mobility comfort. It is important to make the rental bike available and accessible to the public at the right time as it lessens the waiting time. Eventually, providing the city with a stable supply of rental bikes becomes a major concern. The crucial part is the prediction of bike count required at each hour for the stable supply of rental bikes.\n",
    "\n",
    "The dataset contains weather information (Temperature, Humidity, Windspeed, Visibility, Dewpoint, Solar radiation, Snowfall, Rainfall), the number of bikes rented per hour and date information.\n",
    "\n"
   ]
  },
  {
   "cell_type": "code",
   "execution_count": 1,
   "id": "a48768d7",
   "metadata": {},
   "outputs": [
    {
     "name": "stderr",
     "output_type": "stream",
     "text": [
      "C:\\Users\\HP\\anaconda3\\lib\\site-packages\\scipy\\__init__.py:138: UserWarning: A NumPy version >=1.16.5 and <1.23.0 is required for this version of SciPy (detected version 1.23.5)\n",
      "  warnings.warn(f\"A NumPy version >={np_minversion} and <{np_maxversion} is required for this version of \"\n"
     ]
    }
   ],
   "source": [
    "## Import neccessary libraries\n",
    "import pandas as pd\n",
    "import numpy as np\n",
    "from datetime import date, timedelta\n",
    "import seaborn as sns\n",
    "import matplotlib.pyplot as plt\n",
    "from statsmodels.formula.api import ols\n",
    "from statsmodels.formula.api import logit\n",
    "from statsmodels.api import qqplot\n",
    "import warnings \n",
    "warnings.simplefilter('ignore')\n",
    "sns.set_style('whitegrid')"
   ]
  },
  {
   "cell_type": "markdown",
   "id": "09bae35e",
   "metadata": {},
   "source": [
    "## Accessing the data"
   ]
  },
  {
   "cell_type": "code",
   "execution_count": 2,
   "id": "fdd72b09",
   "metadata": {},
   "outputs": [],
   "source": [
    "#read the csv into bike_df\n",
    "bike_df = pd.read_csv(r\"C:\\Users\\HP\\Downloads\\SeoulBikeData.csv\", parse_dates =['Date'])"
   ]
  },
  {
   "cell_type": "code",
   "execution_count": 3,
   "id": "a3552e6b",
   "metadata": {},
   "outputs": [
    {
     "data": {
      "text/html": [
       "<div>\n",
       "<style scoped>\n",
       "    .dataframe tbody tr th:only-of-type {\n",
       "        vertical-align: middle;\n",
       "    }\n",
       "\n",
       "    .dataframe tbody tr th {\n",
       "        vertical-align: top;\n",
       "    }\n",
       "\n",
       "    .dataframe thead th {\n",
       "        text-align: right;\n",
       "    }\n",
       "</style>\n",
       "<table border=\"1\" class=\"dataframe\">\n",
       "  <thead>\n",
       "    <tr style=\"text-align: right;\">\n",
       "      <th></th>\n",
       "      <th>Date</th>\n",
       "      <th>Rented Bike Count</th>\n",
       "      <th>Hour</th>\n",
       "      <th>Temperature(�C)</th>\n",
       "      <th>Humidity(%)</th>\n",
       "      <th>Wind speed (m/s)</th>\n",
       "      <th>Visibility (10m)</th>\n",
       "      <th>Dew point temperature(�C)</th>\n",
       "      <th>Solar Radiation (MJ/m2)</th>\n",
       "      <th>Rainfall(mm)</th>\n",
       "      <th>Snowfall (cm)</th>\n",
       "      <th>Seasons</th>\n",
       "      <th>Holiday</th>\n",
       "      <th>Functioning Day</th>\n",
       "    </tr>\n",
       "  </thead>\n",
       "  <tbody>\n",
       "    <tr>\n",
       "      <th>0</th>\n",
       "      <td>2017-01-12</td>\n",
       "      <td>254</td>\n",
       "      <td>0</td>\n",
       "      <td>-5.2</td>\n",
       "      <td>37</td>\n",
       "      <td>2.2</td>\n",
       "      <td>2000</td>\n",
       "      <td>-17.6</td>\n",
       "      <td>0.0</td>\n",
       "      <td>0.0</td>\n",
       "      <td>0.0</td>\n",
       "      <td>Winter</td>\n",
       "      <td>No Holiday</td>\n",
       "      <td>Yes</td>\n",
       "    </tr>\n",
       "    <tr>\n",
       "      <th>1</th>\n",
       "      <td>2017-01-12</td>\n",
       "      <td>204</td>\n",
       "      <td>1</td>\n",
       "      <td>-5.5</td>\n",
       "      <td>38</td>\n",
       "      <td>0.8</td>\n",
       "      <td>2000</td>\n",
       "      <td>-17.6</td>\n",
       "      <td>0.0</td>\n",
       "      <td>0.0</td>\n",
       "      <td>0.0</td>\n",
       "      <td>Winter</td>\n",
       "      <td>No Holiday</td>\n",
       "      <td>Yes</td>\n",
       "    </tr>\n",
       "    <tr>\n",
       "      <th>2</th>\n",
       "      <td>2017-01-12</td>\n",
       "      <td>173</td>\n",
       "      <td>2</td>\n",
       "      <td>-6.0</td>\n",
       "      <td>39</td>\n",
       "      <td>1.0</td>\n",
       "      <td>2000</td>\n",
       "      <td>-17.7</td>\n",
       "      <td>0.0</td>\n",
       "      <td>0.0</td>\n",
       "      <td>0.0</td>\n",
       "      <td>Winter</td>\n",
       "      <td>No Holiday</td>\n",
       "      <td>Yes</td>\n",
       "    </tr>\n",
       "    <tr>\n",
       "      <th>3</th>\n",
       "      <td>2017-01-12</td>\n",
       "      <td>107</td>\n",
       "      <td>3</td>\n",
       "      <td>-6.2</td>\n",
       "      <td>40</td>\n",
       "      <td>0.9</td>\n",
       "      <td>2000</td>\n",
       "      <td>-17.6</td>\n",
       "      <td>0.0</td>\n",
       "      <td>0.0</td>\n",
       "      <td>0.0</td>\n",
       "      <td>Winter</td>\n",
       "      <td>No Holiday</td>\n",
       "      <td>Yes</td>\n",
       "    </tr>\n",
       "    <tr>\n",
       "      <th>4</th>\n",
       "      <td>2017-01-12</td>\n",
       "      <td>78</td>\n",
       "      <td>4</td>\n",
       "      <td>-6.0</td>\n",
       "      <td>36</td>\n",
       "      <td>2.3</td>\n",
       "      <td>2000</td>\n",
       "      <td>-18.6</td>\n",
       "      <td>0.0</td>\n",
       "      <td>0.0</td>\n",
       "      <td>0.0</td>\n",
       "      <td>Winter</td>\n",
       "      <td>No Holiday</td>\n",
       "      <td>Yes</td>\n",
       "    </tr>\n",
       "  </tbody>\n",
       "</table>\n",
       "</div>"
      ],
      "text/plain": [
       "        Date  Rented Bike Count  Hour  Temperature(�C)  Humidity(%)  \\\n",
       "0 2017-01-12                254     0             -5.2           37   \n",
       "1 2017-01-12                204     1             -5.5           38   \n",
       "2 2017-01-12                173     2             -6.0           39   \n",
       "3 2017-01-12                107     3             -6.2           40   \n",
       "4 2017-01-12                 78     4             -6.0           36   \n",
       "\n",
       "   Wind speed (m/s)  Visibility (10m)  Dew point temperature(�C)  \\\n",
       "0               2.2              2000                      -17.6   \n",
       "1               0.8              2000                      -17.6   \n",
       "2               1.0              2000                      -17.7   \n",
       "3               0.9              2000                      -17.6   \n",
       "4               2.3              2000                      -18.6   \n",
       "\n",
       "   Solar Radiation (MJ/m2)  Rainfall(mm)  Snowfall (cm) Seasons     Holiday  \\\n",
       "0                      0.0           0.0            0.0  Winter  No Holiday   \n",
       "1                      0.0           0.0            0.0  Winter  No Holiday   \n",
       "2                      0.0           0.0            0.0  Winter  No Holiday   \n",
       "3                      0.0           0.0            0.0  Winter  No Holiday   \n",
       "4                      0.0           0.0            0.0  Winter  No Holiday   \n",
       "\n",
       "  Functioning Day  \n",
       "0             Yes  \n",
       "1             Yes  \n",
       "2             Yes  \n",
       "3             Yes  \n",
       "4             Yes  "
      ]
     },
     "execution_count": 3,
     "metadata": {},
     "output_type": "execute_result"
    }
   ],
   "source": [
    "# preview the datasets\n",
    "bike_df.head()"
   ]
  },
  {
   "cell_type": "code",
   "execution_count": 4,
   "id": "081c1816",
   "metadata": {},
   "outputs": [
    {
     "name": "stdout",
     "output_type": "stream",
     "text": [
      "<class 'pandas.core.frame.DataFrame'>\n",
      "RangeIndex: 8760 entries, 0 to 8759\n",
      "Data columns (total 14 columns):\n",
      " #   Column                     Non-Null Count  Dtype         \n",
      "---  ------                     --------------  -----         \n",
      " 0   Date                       8760 non-null   datetime64[ns]\n",
      " 1   Rented Bike Count          8760 non-null   int64         \n",
      " 2   Hour                       8760 non-null   int64         \n",
      " 3   Temperature(�C)            8760 non-null   float64       \n",
      " 4   Humidity(%)                8760 non-null   int64         \n",
      " 5   Wind speed (m/s)           8760 non-null   float64       \n",
      " 6   Visibility (10m)           8760 non-null   int64         \n",
      " 7   Dew point temperature(�C)  8760 non-null   float64       \n",
      " 8   Solar Radiation (MJ/m2)    8760 non-null   float64       \n",
      " 9   Rainfall(mm)               8760 non-null   float64       \n",
      " 10  Snowfall (cm)              8760 non-null   float64       \n",
      " 11  Seasons                    8760 non-null   object        \n",
      " 12  Holiday                    8760 non-null   object        \n",
      " 13  Functioning Day            8760 non-null   object        \n",
      "dtypes: datetime64[ns](1), float64(6), int64(4), object(3)\n",
      "memory usage: 958.2+ KB\n"
     ]
    }
   ],
   "source": [
    "bike_df.info()"
   ]
  },
  {
   "cell_type": "code",
   "execution_count": 84,
   "id": "b098f13f",
   "metadata": {},
   "outputs": [
    {
     "data": {
      "text/html": [
       "<div>\n",
       "<style scoped>\n",
       "    .dataframe tbody tr th:only-of-type {\n",
       "        vertical-align: middle;\n",
       "    }\n",
       "\n",
       "    .dataframe tbody tr th {\n",
       "        vertical-align: top;\n",
       "    }\n",
       "\n",
       "    .dataframe thead th {\n",
       "        text-align: right;\n",
       "    }\n",
       "</style>\n",
       "<table border=\"1\" class=\"dataframe\">\n",
       "  <thead>\n",
       "    <tr style=\"text-align: right;\">\n",
       "      <th></th>\n",
       "      <th>rented_bike_count</th>\n",
       "      <th>hour</th>\n",
       "      <th>temperature</th>\n",
       "      <th>humidity(%)</th>\n",
       "      <th>wind_speed_(m/s)</th>\n",
       "      <th>visibility_(10m)</th>\n",
       "      <th>dew_point_temperature(c)</th>\n",
       "      <th>solar_radiation_(mj/m2)</th>\n",
       "      <th>rainfall(mm)</th>\n",
       "      <th>snowfall_(cm)</th>\n",
       "    </tr>\n",
       "  </thead>\n",
       "  <tbody>\n",
       "    <tr>\n",
       "      <th>count</th>\n",
       "      <td>8760.000000</td>\n",
       "      <td>8760.000000</td>\n",
       "      <td>8760.000000</td>\n",
       "      <td>8760.000000</td>\n",
       "      <td>8760.000000</td>\n",
       "      <td>8760.000000</td>\n",
       "      <td>8760.000000</td>\n",
       "      <td>8760.000000</td>\n",
       "      <td>8760.000000</td>\n",
       "      <td>8760.000000</td>\n",
       "    </tr>\n",
       "    <tr>\n",
       "      <th>mean</th>\n",
       "      <td>704.602055</td>\n",
       "      <td>11.500000</td>\n",
       "      <td>12.882922</td>\n",
       "      <td>58.226256</td>\n",
       "      <td>1.724909</td>\n",
       "      <td>1436.825799</td>\n",
       "      <td>4.073813</td>\n",
       "      <td>0.569111</td>\n",
       "      <td>0.148687</td>\n",
       "      <td>0.075068</td>\n",
       "    </tr>\n",
       "    <tr>\n",
       "      <th>std</th>\n",
       "      <td>644.997468</td>\n",
       "      <td>6.922582</td>\n",
       "      <td>11.944825</td>\n",
       "      <td>20.362413</td>\n",
       "      <td>1.036300</td>\n",
       "      <td>608.298712</td>\n",
       "      <td>13.060369</td>\n",
       "      <td>0.868746</td>\n",
       "      <td>1.128193</td>\n",
       "      <td>0.436746</td>\n",
       "    </tr>\n",
       "    <tr>\n",
       "      <th>min</th>\n",
       "      <td>0.000000</td>\n",
       "      <td>0.000000</td>\n",
       "      <td>-17.800000</td>\n",
       "      <td>0.000000</td>\n",
       "      <td>0.000000</td>\n",
       "      <td>27.000000</td>\n",
       "      <td>-30.600000</td>\n",
       "      <td>0.000000</td>\n",
       "      <td>0.000000</td>\n",
       "      <td>0.000000</td>\n",
       "    </tr>\n",
       "    <tr>\n",
       "      <th>25%</th>\n",
       "      <td>191.000000</td>\n",
       "      <td>5.750000</td>\n",
       "      <td>3.500000</td>\n",
       "      <td>42.000000</td>\n",
       "      <td>0.900000</td>\n",
       "      <td>940.000000</td>\n",
       "      <td>-4.700000</td>\n",
       "      <td>0.000000</td>\n",
       "      <td>0.000000</td>\n",
       "      <td>0.000000</td>\n",
       "    </tr>\n",
       "    <tr>\n",
       "      <th>50%</th>\n",
       "      <td>504.500000</td>\n",
       "      <td>11.500000</td>\n",
       "      <td>13.700000</td>\n",
       "      <td>57.000000</td>\n",
       "      <td>1.500000</td>\n",
       "      <td>1698.000000</td>\n",
       "      <td>5.100000</td>\n",
       "      <td>0.010000</td>\n",
       "      <td>0.000000</td>\n",
       "      <td>0.000000</td>\n",
       "    </tr>\n",
       "    <tr>\n",
       "      <th>75%</th>\n",
       "      <td>1065.250000</td>\n",
       "      <td>17.250000</td>\n",
       "      <td>22.500000</td>\n",
       "      <td>74.000000</td>\n",
       "      <td>2.300000</td>\n",
       "      <td>2000.000000</td>\n",
       "      <td>14.800000</td>\n",
       "      <td>0.930000</td>\n",
       "      <td>0.000000</td>\n",
       "      <td>0.000000</td>\n",
       "    </tr>\n",
       "    <tr>\n",
       "      <th>max</th>\n",
       "      <td>3556.000000</td>\n",
       "      <td>23.000000</td>\n",
       "      <td>39.400000</td>\n",
       "      <td>98.000000</td>\n",
       "      <td>7.400000</td>\n",
       "      <td>2000.000000</td>\n",
       "      <td>27.200000</td>\n",
       "      <td>3.520000</td>\n",
       "      <td>35.000000</td>\n",
       "      <td>8.800000</td>\n",
       "    </tr>\n",
       "  </tbody>\n",
       "</table>\n",
       "</div>"
      ],
      "text/plain": [
       "       rented_bike_count         hour  temperature  humidity(%)  \\\n",
       "count        8760.000000  8760.000000  8760.000000  8760.000000   \n",
       "mean          704.602055    11.500000    12.882922    58.226256   \n",
       "std           644.997468     6.922582    11.944825    20.362413   \n",
       "min             0.000000     0.000000   -17.800000     0.000000   \n",
       "25%           191.000000     5.750000     3.500000    42.000000   \n",
       "50%           504.500000    11.500000    13.700000    57.000000   \n",
       "75%          1065.250000    17.250000    22.500000    74.000000   \n",
       "max          3556.000000    23.000000    39.400000    98.000000   \n",
       "\n",
       "       wind_speed_(m/s)  visibility_(10m)  dew_point_temperature(c)  \\\n",
       "count       8760.000000       8760.000000               8760.000000   \n",
       "mean           1.724909       1436.825799                  4.073813   \n",
       "std            1.036300        608.298712                 13.060369   \n",
       "min            0.000000         27.000000                -30.600000   \n",
       "25%            0.900000        940.000000                 -4.700000   \n",
       "50%            1.500000       1698.000000                  5.100000   \n",
       "75%            2.300000       2000.000000                 14.800000   \n",
       "max            7.400000       2000.000000                 27.200000   \n",
       "\n",
       "       solar_radiation_(mj/m2)  rainfall(mm)  snowfall_(cm)  \n",
       "count              8760.000000   8760.000000    8760.000000  \n",
       "mean                  0.569111      0.148687       0.075068  \n",
       "std                   0.868746      1.128193       0.436746  \n",
       "min                   0.000000      0.000000       0.000000  \n",
       "25%                   0.000000      0.000000       0.000000  \n",
       "50%                   0.010000      0.000000       0.000000  \n",
       "75%                   0.930000      0.000000       0.000000  \n",
       "max                   3.520000     35.000000       8.800000  "
      ]
     },
     "execution_count": 84,
     "metadata": {},
     "output_type": "execute_result"
    }
   ],
   "source": [
    "bike_df.describe()"
   ]
  },
  {
   "cell_type": "code",
   "execution_count": 6,
   "id": "5d147276",
   "metadata": {},
   "outputs": [
    {
     "data": {
      "text/html": [
       "<div>\n",
       "<style scoped>\n",
       "    .dataframe tbody tr th:only-of-type {\n",
       "        vertical-align: middle;\n",
       "    }\n",
       "\n",
       "    .dataframe tbody tr th {\n",
       "        vertical-align: top;\n",
       "    }\n",
       "\n",
       "    .dataframe thead th {\n",
       "        text-align: right;\n",
       "    }\n",
       "</style>\n",
       "<table border=\"1\" class=\"dataframe\">\n",
       "  <thead>\n",
       "    <tr style=\"text-align: right;\">\n",
       "      <th></th>\n",
       "      <th>Seasons</th>\n",
       "      <th>Holiday</th>\n",
       "      <th>Functioning Day</th>\n",
       "    </tr>\n",
       "  </thead>\n",
       "  <tbody>\n",
       "    <tr>\n",
       "      <th>count</th>\n",
       "      <td>8760</td>\n",
       "      <td>8760</td>\n",
       "      <td>8760</td>\n",
       "    </tr>\n",
       "    <tr>\n",
       "      <th>unique</th>\n",
       "      <td>4</td>\n",
       "      <td>2</td>\n",
       "      <td>2</td>\n",
       "    </tr>\n",
       "    <tr>\n",
       "      <th>top</th>\n",
       "      <td>Summer</td>\n",
       "      <td>No Holiday</td>\n",
       "      <td>Yes</td>\n",
       "    </tr>\n",
       "    <tr>\n",
       "      <th>freq</th>\n",
       "      <td>2208</td>\n",
       "      <td>8328</td>\n",
       "      <td>8465</td>\n",
       "    </tr>\n",
       "  </tbody>\n",
       "</table>\n",
       "</div>"
      ],
      "text/plain": [
       "       Seasons     Holiday Functioning Day\n",
       "count     8760        8760            8760\n",
       "unique       4           2               2\n",
       "top     Summer  No Holiday             Yes\n",
       "freq      2208        8328            8465"
      ]
     },
     "execution_count": 6,
     "metadata": {},
     "output_type": "execute_result"
    }
   ],
   "source": [
    "bike_df.describe(include='O')"
   ]
  },
  {
   "cell_type": "code",
   "execution_count": 7,
   "id": "6832878a",
   "metadata": {},
   "outputs": [
    {
     "data": {
      "text/plain": [
       "Date                         0\n",
       "Rented Bike Count            0\n",
       "Hour                         0\n",
       "Temperature(�C)              0\n",
       "Humidity(%)                  0\n",
       "Wind speed (m/s)             0\n",
       "Visibility (10m)             0\n",
       "Dew point temperature(�C)    0\n",
       "Solar Radiation (MJ/m2)      0\n",
       "Rainfall(mm)                 0\n",
       "Snowfall (cm)                0\n",
       "Seasons                      0\n",
       "Holiday                      0\n",
       "Functioning Day              0\n",
       "dtype: int64"
      ]
     },
     "execution_count": 7,
     "metadata": {},
     "output_type": "execute_result"
    }
   ],
   "source": [
    "# check for null values\n",
    "bike_df.isna().sum()"
   ]
  },
  {
   "cell_type": "markdown",
   "id": "dae21bd1",
   "metadata": {},
   "source": [
    "Observation: There are no null values or empty row"
   ]
  },
  {
   "cell_type": "code",
   "execution_count": 8,
   "id": "8cd33cf9",
   "metadata": {},
   "outputs": [
    {
     "data": {
      "text/plain": [
       "0"
      ]
     },
     "execution_count": 8,
     "metadata": {},
     "output_type": "execute_result"
    }
   ],
   "source": [
    "# check for duplicated rows\n",
    "bike_df.duplicated().sum()"
   ]
  },
  {
   "cell_type": "code",
   "execution_count": 9,
   "id": "9b1c553d",
   "metadata": {},
   "outputs": [
    {
     "name": "stdout",
     "output_type": "stream",
     "text": [
      "rows and colums of the dataset are (8760, 14) respectively\n"
     ]
    }
   ],
   "source": [
    "# total rows and columns:\n",
    "print(f'rows and colums of the dataset are {(bike_df.shape)} respectively')"
   ]
  },
  {
   "cell_type": "markdown",
   "id": "0571673b",
   "metadata": {},
   "source": [
    "Observation There are no duplicated rows in the dataset"
   ]
  },
  {
   "cell_type": "markdown",
   "id": "7db1d3a5",
   "metadata": {},
   "source": [
    "## Wrangling"
   ]
  },
  {
   "cell_type": "code",
   "execution_count": 10,
   "id": "4ae8bfed",
   "metadata": {},
   "outputs": [],
   "source": [
    "# replace No holiday and Holiday with No and Yes respectively\n",
    "bike_df['Holiday'] = bike_df['Holiday'].replace(['No Holiday','Holiday'],['No','Yes'])"
   ]
  },
  {
   "cell_type": "code",
   "execution_count": 11,
   "id": "2a1795c5",
   "metadata": {},
   "outputs": [],
   "source": [
    "bike_df  = bike_df.rename(columns= {'Temperature(�C)':'Temperature','Dew point temperature(�C)':'Dew point temperature(C)'})"
   ]
  },
  {
   "cell_type": "code",
   "execution_count": 12,
   "id": "d484f194",
   "metadata": {},
   "outputs": [],
   "source": [
    "bike_df.columns = bike_df.columns.str.replace(' ','_')\n",
    "bike_df.columns= bike_df.columns.str.lower()"
   ]
  },
  {
   "cell_type": "code",
   "execution_count": 13,
   "id": "abc8dd5f",
   "metadata": {},
   "outputs": [],
   "source": [
    "## Distribute the hours into diffrent categories of the day: MOrning, Aftrnoon, Evening, Night\n",
    "def day_cat(x):\n",
    "    if x >=5 and x <= 12:\n",
    "        return 'Morning'\n",
    "    elif x > 12 and x <= 17:\n",
    "        return 'Afternoon'\n",
    "    elif x > 17 and x <=21 :\n",
    "        return 'Evening'\n",
    "    else:\n",
    "        return 'Night'"
   ]
  },
  {
   "cell_type": "code",
   "execution_count": 14,
   "id": "d0a737d8",
   "metadata": {},
   "outputs": [],
   "source": [
    "bike_df['day_time'] = bike_df['hour'].apply(day_cat)"
   ]
  },
  {
   "cell_type": "code",
   "execution_count": 15,
   "id": "dd3cfdc5",
   "metadata": {},
   "outputs": [
    {
     "data": {
      "text/plain": [
       "Index(['date', 'rented_bike_count', 'hour', 'temperature', 'humidity(%)',\n",
       "       'wind_speed_(m/s)', 'visibility_(10m)', 'dew_point_temperature(c)',\n",
       "       'solar_radiation_(mj/m2)', 'rainfall(mm)', 'snowfall_(cm)', 'seasons',\n",
       "       'holiday', 'functioning_day', 'day_time'],\n",
       "      dtype='object')"
      ]
     },
     "execution_count": 15,
     "metadata": {},
     "output_type": "execute_result"
    }
   ],
   "source": [
    "bike_df.columns"
   ]
  },
  {
   "cell_type": "code",
   "execution_count": 16,
   "id": "27c6d363",
   "metadata": {},
   "outputs": [],
   "source": [
    "bike_df = bike_df[['date', 'rented_bike_count', 'hour','day_time', 'temperature', 'humidity(%)',\n",
    "       'wind_speed_(m/s)', 'visibility_(10m)', 'dew_point_temperature(c)',\n",
    "       'solar_radiation_(mj/m2)', 'rainfall(mm)', 'snowfall_(cm)', 'seasons',\n",
    "       'holiday', 'functioning_day']]"
   ]
  },
  {
   "cell_type": "markdown",
   "id": "d21360c7",
   "metadata": {},
   "source": [
    "## Exploratory Data Analysis (EDA)"
   ]
  },
  {
   "cell_type": "code",
   "execution_count": 17,
   "id": "2463d0f4",
   "metadata": {},
   "outputs": [],
   "source": [
    "def show_values(axs, orient=\"v\", space=.01):\n",
    "    def _single(ax):\n",
    "        if orient == \"v\":\n",
    "            for p in ax.patches:\n",
    "                _x = p.get_x() + p.get_width() / 2\n",
    "                _y = p.get_y() + p.get_height() + (p.get_height()*0.01)\n",
    "                value = '{:.1f}'.format(p.get_height())\n",
    "                ax.text(_x, _y, value, ha=\"center\") \n",
    "        elif orient == \"h\":\n",
    "            for p in ax.patches:\n",
    "                _x = p.get_x() + p.get_width() + float(space)\n",
    "                _y = p.get_y() + p.get_height() - (p.get_height()*0.5)\n",
    "                value = '{:.1f}'.format(p.get_width())\n",
    "                ax.text(_x, _y, value, ha=\"left\")\n",
    "\n",
    "    if isinstance(axs, np.ndarray):\n",
    "        for idx, ax in np.ndenumerate(axs):\n",
    "            _single(ax)\n",
    "    else:\n",
    "        _single(axs)"
   ]
  },
  {
   "cell_type": "markdown",
   "id": "aa0be4f2",
   "metadata": {},
   "source": [
    "### What's the time frame of the dataset?"
   ]
  },
  {
   "cell_type": "code",
   "execution_count": 18,
   "id": "33c8b7b0",
   "metadata": {},
   "outputs": [
    {
     "name": "stdout",
     "output_type": "stream",
     "text": [
      "The time frame for this dataset is between 2017-01-12 00:00:00 and 2018-12-11 00:00:00\n"
     ]
    }
   ],
   "source": [
    "min = bike_df['date'].min()\n",
    "max = bike_df['date'].max()\n",
    "print(f'The time frame for this dataset is between {min} and {max}')"
   ]
  },
  {
   "cell_type": "markdown",
   "id": "56ecc98d",
   "metadata": {},
   "source": [
    "### The total count of time bikes that has been rented out within this time frame"
   ]
  },
  {
   "cell_type": "code",
   "execution_count": 19,
   "id": "ce673dea",
   "metadata": {},
   "outputs": [
    {
     "name": "stdout",
     "output_type": "stream",
     "text": [
      "the total count of bikes rented out with the provided timeframe is 6172314 times\n"
     ]
    }
   ],
   "source": [
    "print('the total count of bikes rented out with the provided timeframe is '+ str(bike_df['rented_bike_count'].sum()) + ' times' )"
   ]
  },
  {
   "cell_type": "markdown",
   "id": "64fcf3cf",
   "metadata": {},
   "source": [
    "### Average number of bikes rented per day"
   ]
  },
  {
   "cell_type": "code",
   "execution_count": 20,
   "id": "2acc1842",
   "metadata": {},
   "outputs": [
    {
     "name": "stdout",
     "output_type": "stream",
     "text": [
      "About 8842 bikes were rented daily on an average\n"
     ]
    }
   ],
   "source": [
    "time_diff = (max-min).days\n",
    "total_bike_count = bike_df['rented_bike_count'].sum()\n",
    "average = total_bike_count//time_diff\n",
    "print(f'About {average} bikes were rented daily on an average')"
   ]
  },
  {
   "cell_type": "markdown",
   "id": "75093c2d",
   "metadata": {},
   "source": [
    "### Season with the most bike rentals"
   ]
  },
  {
   "cell_type": "code",
   "execution_count": 21,
   "id": "d2bf1211",
   "metadata": {},
   "outputs": [
    {
     "data": {
      "text/plain": [
       "seasons\n",
       "Autumn    1790002\n",
       "Spring    1611909\n",
       "Summer    2283234\n",
       "Winter     487169\n",
       "Name: rented_bike_count, dtype: int64"
      ]
     },
     "execution_count": 21,
     "metadata": {},
     "output_type": "execute_result"
    }
   ],
   "source": [
    "bike_df.groupby('seasons')['rented_bike_count'].sum()"
   ]
  },
  {
   "cell_type": "code",
   "execution_count": 22,
   "id": "203fe088",
   "metadata": {},
   "outputs": [
    {
     "data": {
      "image/png": "[encoded data removed]",
      "text/plain": [
       "<Figure size 720x576 with 1 Axes>"
      ]
     },
     "metadata": {},
     "output_type": "display_data"
    }
   ],
   "source": [
    "fig,ax =plt.subplots(figsize=(10,8))\n",
    "ax= sns.barplot(data=bike_df,x='seasons',y='rented_bike_count',ci=None, estimator=np.sum, edgecolor='Black')\n",
    "show_values(ax,space=0.5)"
   ]
  },
  {
   "cell_type": "markdown",
   "id": "2804dd8a",
   "metadata": {},
   "source": [
    "### Visualize the temperature distribution across the seasons"
   ]
  },
  {
   "cell_type": "code",
   "execution_count": 69,
   "id": "d054f5e5",
   "metadata": {},
   "outputs": [
    {
     "data": {
      "text/plain": [
       "Text(0, 0.5, 'Temperature(C)')"
      ]
     },
     "execution_count": 69,
     "metadata": {},
     "output_type": "execute_result"
    },
    {
     "data": {
      "image/png": "[encoded data removed]",
      "text/plain": [
       "<Figure size 864x720 with 1 Axes>"
      ]
     },
     "metadata": {},
     "output_type": "display_data"
    }
   ],
   "source": [
    "fig,ax =plt.subplots(figsize=(12,10))\n",
    "sns.boxplot(data=bike_df, x='seasons', y='temperature')\n",
    "plt.title('Temperature Distribution Across The Seasons',fontsize=15, weight ='bold')\n",
    "plt.xlabel('Seasons',fontsize=13)\n",
    "plt.ylabel('Temperature(C)', fontsize=13)"
   ]
  },
  {
   "cell_type": "markdown",
   "id": "16ac14d5",
   "metadata": {},
   "source": [
    "Observation: Obviously Winter had the lowest temeprature, while Summer was the warmest."
   ]
  },
  {
   "cell_type": "code",
   "execution_count": 23,
   "id": "4028c701",
   "metadata": {},
   "outputs": [
    {
     "name": "stdout",
     "output_type": "stream",
     "text": [
      "These are the number of days for each season;\n",
      "Winter has 90 days\n",
      "Spring has 92 days\n",
      "Summer has 92 days\n",
      "Autumn has 91 days\n"
     ]
    }
   ],
   "source": [
    "### what is the most common season\n",
    "print(f'These are the number of days for each season;')\n",
    "season_unique= bike_df['seasons'].unique()\n",
    "value = bike_df.groupby('seasons')['date'].nunique().reindex(['Winter', 'Spring', 'Summer', 'Autumn']).to_dict().values()\n",
    "for season, val in zip(season_unique,value):\n",
    "    print(f'{season} has {val} days')"
   ]
  },
  {
   "cell_type": "markdown",
   "id": "58197ab1",
   "metadata": {},
   "source": [
    "### Days operations weren't functioning,How many were due to holidays and no holidays"
   ]
  },
  {
   "cell_type": "code",
   "execution_count": 24,
   "id": "d22be5ad",
   "metadata": {},
   "outputs": [
    {
     "data": {
      "text/html": [
       "<div>\n",
       "<style scoped>\n",
       "    .dataframe tbody tr th:only-of-type {\n",
       "        vertical-align: middle;\n",
       "    }\n",
       "\n",
       "    .dataframe tbody tr th {\n",
       "        vertical-align: top;\n",
       "    }\n",
       "\n",
       "    .dataframe thead th {\n",
       "        text-align: right;\n",
       "    }\n",
       "</style>\n",
       "<table border=\"1\" class=\"dataframe\">\n",
       "  <thead>\n",
       "    <tr style=\"text-align: right;\">\n",
       "      <th></th>\n",
       "      <th>date</th>\n",
       "      <th>rented_bike_count</th>\n",
       "      <th>hour</th>\n",
       "      <th>day_time</th>\n",
       "      <th>temperature</th>\n",
       "      <th>humidity(%)</th>\n",
       "      <th>wind_speed_(m/s)</th>\n",
       "      <th>visibility_(10m)</th>\n",
       "      <th>dew_point_temperature(c)</th>\n",
       "      <th>solar_radiation_(mj/m2)</th>\n",
       "      <th>rainfall(mm)</th>\n",
       "      <th>snowfall_(cm)</th>\n",
       "      <th>seasons</th>\n",
       "      <th>holiday</th>\n",
       "      <th>functioning_day</th>\n",
       "    </tr>\n",
       "  </thead>\n",
       "  <tbody>\n",
       "    <tr>\n",
       "      <th>3144</th>\n",
       "      <td>2018-11-04</td>\n",
       "      <td>0</td>\n",
       "      <td>0</td>\n",
       "      <td>Night</td>\n",
       "      <td>14.4</td>\n",
       "      <td>82</td>\n",
       "      <td>4.6</td>\n",
       "      <td>1041</td>\n",
       "      <td>11.3</td>\n",
       "      <td>0.0</td>\n",
       "      <td>0.0</td>\n",
       "      <td>0.0</td>\n",
       "      <td>Spring</td>\n",
       "      <td>No</td>\n",
       "      <td>No</td>\n",
       "    </tr>\n",
       "    <tr>\n",
       "      <th>3145</th>\n",
       "      <td>2018-11-04</td>\n",
       "      <td>0</td>\n",
       "      <td>1</td>\n",
       "      <td>Night</td>\n",
       "      <td>13.6</td>\n",
       "      <td>81</td>\n",
       "      <td>3.6</td>\n",
       "      <td>886</td>\n",
       "      <td>10.3</td>\n",
       "      <td>0.0</td>\n",
       "      <td>0.0</td>\n",
       "      <td>0.0</td>\n",
       "      <td>Spring</td>\n",
       "      <td>No</td>\n",
       "      <td>No</td>\n",
       "    </tr>\n",
       "    <tr>\n",
       "      <th>3146</th>\n",
       "      <td>2018-11-04</td>\n",
       "      <td>0</td>\n",
       "      <td>2</td>\n",
       "      <td>Night</td>\n",
       "      <td>12.7</td>\n",
       "      <td>80</td>\n",
       "      <td>3.9</td>\n",
       "      <td>885</td>\n",
       "      <td>9.3</td>\n",
       "      <td>0.0</td>\n",
       "      <td>0.0</td>\n",
       "      <td>0.0</td>\n",
       "      <td>Spring</td>\n",
       "      <td>No</td>\n",
       "      <td>No</td>\n",
       "    </tr>\n",
       "    <tr>\n",
       "      <th>3147</th>\n",
       "      <td>2018-11-04</td>\n",
       "      <td>0</td>\n",
       "      <td>3</td>\n",
       "      <td>Night</td>\n",
       "      <td>11.6</td>\n",
       "      <td>81</td>\n",
       "      <td>3.1</td>\n",
       "      <td>687</td>\n",
       "      <td>8.4</td>\n",
       "      <td>0.0</td>\n",
       "      <td>0.0</td>\n",
       "      <td>0.0</td>\n",
       "      <td>Spring</td>\n",
       "      <td>No</td>\n",
       "      <td>No</td>\n",
       "    </tr>\n",
       "    <tr>\n",
       "      <th>3148</th>\n",
       "      <td>2018-11-04</td>\n",
       "      <td>0</td>\n",
       "      <td>4</td>\n",
       "      <td>Night</td>\n",
       "      <td>10.2</td>\n",
       "      <td>83</td>\n",
       "      <td>3.5</td>\n",
       "      <td>554</td>\n",
       "      <td>7.4</td>\n",
       "      <td>0.0</td>\n",
       "      <td>0.0</td>\n",
       "      <td>0.0</td>\n",
       "      <td>Spring</td>\n",
       "      <td>No</td>\n",
       "      <td>No</td>\n",
       "    </tr>\n",
       "    <tr>\n",
       "      <th>...</th>\n",
       "      <td>...</td>\n",
       "      <td>...</td>\n",
       "      <td>...</td>\n",
       "      <td>...</td>\n",
       "      <td>...</td>\n",
       "      <td>...</td>\n",
       "      <td>...</td>\n",
       "      <td>...</td>\n",
       "      <td>...</td>\n",
       "      <td>...</td>\n",
       "      <td>...</td>\n",
       "      <td>...</td>\n",
       "      <td>...</td>\n",
       "      <td>...</td>\n",
       "      <td>...</td>\n",
       "    </tr>\n",
       "    <tr>\n",
       "      <th>8251</th>\n",
       "      <td>2018-09-11</td>\n",
       "      <td>0</td>\n",
       "      <td>19</td>\n",
       "      <td>Evening</td>\n",
       "      <td>11.9</td>\n",
       "      <td>71</td>\n",
       "      <td>2.7</td>\n",
       "      <td>589</td>\n",
       "      <td>6.7</td>\n",
       "      <td>0.0</td>\n",
       "      <td>0.0</td>\n",
       "      <td>0.0</td>\n",
       "      <td>Autumn</td>\n",
       "      <td>No</td>\n",
       "      <td>No</td>\n",
       "    </tr>\n",
       "    <tr>\n",
       "      <th>8252</th>\n",
       "      <td>2018-09-11</td>\n",
       "      <td>0</td>\n",
       "      <td>20</td>\n",
       "      <td>Evening</td>\n",
       "      <td>11.9</td>\n",
       "      <td>72</td>\n",
       "      <td>2.5</td>\n",
       "      <td>526</td>\n",
       "      <td>7.0</td>\n",
       "      <td>0.0</td>\n",
       "      <td>0.0</td>\n",
       "      <td>0.0</td>\n",
       "      <td>Autumn</td>\n",
       "      <td>No</td>\n",
       "      <td>No</td>\n",
       "    </tr>\n",
       "    <tr>\n",
       "      <th>8253</th>\n",
       "      <td>2018-09-11</td>\n",
       "      <td>0</td>\n",
       "      <td>21</td>\n",
       "      <td>Evening</td>\n",
       "      <td>11.4</td>\n",
       "      <td>74</td>\n",
       "      <td>1.9</td>\n",
       "      <td>498</td>\n",
       "      <td>6.9</td>\n",
       "      <td>0.0</td>\n",
       "      <td>0.0</td>\n",
       "      <td>0.0</td>\n",
       "      <td>Autumn</td>\n",
       "      <td>No</td>\n",
       "      <td>No</td>\n",
       "    </tr>\n",
       "    <tr>\n",
       "      <th>8254</th>\n",
       "      <td>2018-09-11</td>\n",
       "      <td>0</td>\n",
       "      <td>22</td>\n",
       "      <td>Night</td>\n",
       "      <td>11.2</td>\n",
       "      <td>75</td>\n",
       "      <td>1.7</td>\n",
       "      <td>478</td>\n",
       "      <td>6.9</td>\n",
       "      <td>0.0</td>\n",
       "      <td>0.0</td>\n",
       "      <td>0.0</td>\n",
       "      <td>Autumn</td>\n",
       "      <td>No</td>\n",
       "      <td>No</td>\n",
       "    </tr>\n",
       "    <tr>\n",
       "      <th>8255</th>\n",
       "      <td>2018-09-11</td>\n",
       "      <td>0</td>\n",
       "      <td>23</td>\n",
       "      <td>Night</td>\n",
       "      <td>10.9</td>\n",
       "      <td>76</td>\n",
       "      <td>1.2</td>\n",
       "      <td>456</td>\n",
       "      <td>6.8</td>\n",
       "      <td>0.0</td>\n",
       "      <td>0.0</td>\n",
       "      <td>0.0</td>\n",
       "      <td>Autumn</td>\n",
       "      <td>No</td>\n",
       "      <td>No</td>\n",
       "    </tr>\n",
       "  </tbody>\n",
       "</table>\n",
       "<p>295 rows × 15 columns</p>\n",
       "</div>"
      ],
      "text/plain": [
       "           date  rented_bike_count  hour day_time  temperature  humidity(%)  \\\n",
       "3144 2018-11-04                  0     0    Night         14.4           82   \n",
       "3145 2018-11-04                  0     1    Night         13.6           81   \n",
       "3146 2018-11-04                  0     2    Night         12.7           80   \n",
       "3147 2018-11-04                  0     3    Night         11.6           81   \n",
       "3148 2018-11-04                  0     4    Night         10.2           83   \n",
       "...         ...                ...   ...      ...          ...          ...   \n",
       "8251 2018-09-11                  0    19  Evening         11.9           71   \n",
       "8252 2018-09-11                  0    20  Evening         11.9           72   \n",
       "8253 2018-09-11                  0    21  Evening         11.4           74   \n",
       "8254 2018-09-11                  0    22    Night         11.2           75   \n",
       "8255 2018-09-11                  0    23    Night         10.9           76   \n",
       "\n",
       "      wind_speed_(m/s)  visibility_(10m)  dew_point_temperature(c)  \\\n",
       "3144               4.6              1041                      11.3   \n",
       "3145               3.6               886                      10.3   \n",
       "3146               3.9               885                       9.3   \n",
       "3147               3.1               687                       8.4   \n",
       "3148               3.5               554                       7.4   \n",
       "...                ...               ...                       ...   \n",
       "8251               2.7               589                       6.7   \n",
       "8252               2.5               526                       7.0   \n",
       "8253               1.9               498                       6.9   \n",
       "8254               1.7               478                       6.9   \n",
       "8255               1.2               456                       6.8   \n",
       "\n",
       "      solar_radiation_(mj/m2)  rainfall(mm)  snowfall_(cm) seasons holiday  \\\n",
       "3144                      0.0           0.0            0.0  Spring      No   \n",
       "3145                      0.0           0.0            0.0  Spring      No   \n",
       "3146                      0.0           0.0            0.0  Spring      No   \n",
       "3147                      0.0           0.0            0.0  Spring      No   \n",
       "3148                      0.0           0.0            0.0  Spring      No   \n",
       "...                       ...           ...            ...     ...     ...   \n",
       "8251                      0.0           0.0            0.0  Autumn      No   \n",
       "8252                      0.0           0.0            0.0  Autumn      No   \n",
       "8253                      0.0           0.0            0.0  Autumn      No   \n",
       "8254                      0.0           0.0            0.0  Autumn      No   \n",
       "8255                      0.0           0.0            0.0  Autumn      No   \n",
       "\n",
       "     functioning_day  \n",
       "3144              No  \n",
       "3145              No  \n",
       "3146              No  \n",
       "3147              No  \n",
       "3148              No  \n",
       "...              ...  \n",
       "8251              No  \n",
       "8252              No  \n",
       "8253              No  \n",
       "8254              No  \n",
       "8255              No  \n",
       "\n",
       "[295 rows x 15 columns]"
      ]
     },
     "execution_count": 24,
     "metadata": {},
     "output_type": "execute_result"
    }
   ],
   "source": [
    "non_function = bike_df[bike_df['functioning_day']== 'No']\n",
    "non_function"
   ]
  },
  {
   "cell_type": "code",
   "execution_count": 25,
   "id": "53a614a0",
   "metadata": {},
   "outputs": [
    {
     "data": {
      "text/plain": [
       "seasons  holiday\n",
       "Autumn   No         9\n",
       "         Yes        1\n",
       "Spring   No         2\n",
       "Name: date, dtype: int64"
      ]
     },
     "execution_count": 25,
     "metadata": {},
     "output_type": "execute_result"
    }
   ],
   "source": [
    "non_function.groupby(['seasons','holiday'])['date'].count().map(lambda x: x//24)"
   ]
  },
  {
   "cell_type": "markdown",
   "id": "856bf5ab",
   "metadata": {},
   "source": [
    "Observation: There were 10 days in Autumn and 2 days in Spring where the bike rentals services were non-functional, of which only a daymwas due to holiday"
   ]
  },
  {
   "cell_type": "code",
   "execution_count": 26,
   "id": "dd7c6f07",
   "metadata": {},
   "outputs": [
    {
     "data": {
      "text/plain": [
       "array(['2018-09-10T00:00:00.000000000'], dtype='datetime64[ns]')"
      ]
     },
     "execution_count": 26,
     "metadata": {},
     "output_type": "execute_result"
    }
   ],
   "source": [
    "# lets try to find the day in which services was altered as a result of holiday\n",
    "non_function[non_function['holiday']=='Yes']['date'].unique()"
   ]
  },
  {
   "cell_type": "markdown",
   "id": "4e0618a6",
   "metadata": {},
   "source": [
    "Observation:\n",
    "The date was 9th of October, 2018. The South Korean government, established in 1945, declared October 9 to be Hangeul Day, a yearly legal holiday which excused government employees from work."
   ]
  },
  {
   "cell_type": "markdown",
   "id": "b9184581",
   "metadata": {},
   "source": [
    "### Day time distribution of total bikes rented"
   ]
  },
  {
   "cell_type": "code",
   "execution_count": 27,
   "id": "4a30b964",
   "metadata": {},
   "outputs": [
    {
     "data": {
      "text/plain": [
       "day_time\n",
       "Evening      1751448\n",
       "Morning      1650695\n",
       "Afternoon    1602492\n",
       "Night        1167679\n",
       "Name: rented_bike_count, dtype: int64"
      ]
     },
     "execution_count": 27,
     "metadata": {},
     "output_type": "execute_result"
    }
   ],
   "source": [
    "bike_df.groupby('day_time')['rented_bike_count'].sum().sort_values(ascending=False)"
   ]
  },
  {
   "cell_type": "markdown",
   "id": "009e7112",
   "metadata": {},
   "source": [
    "Observation: More people tends to ride bikes in the evening that any other time of the day, this could be as result of people enjoying their leisure time after work or school."
   ]
  },
  {
   "cell_type": "code",
   "execution_count": 28,
   "id": "b9bdfaab",
   "metadata": {},
   "outputs": [
    {
     "data": {
      "text/plain": [
       "<AxesSubplot:title={'center':'Percentage of Bikes Rented by Day Time'}>"
      ]
     },
     "execution_count": 28,
     "metadata": {},
     "output_type": "execute_result"
    },
    {
     "data": {
      "image/png": "[encoded data removed]",
      "text/plain": [
       "<Figure size 720x504 with 1 Axes>"
      ]
     },
     "metadata": {},
     "output_type": "display_data"
    }
   ],
   "source": [
    "bike_df.groupby('day_time')['rented_bike_count'].sum().plot(kind='pie',autopct='%.1f%%',figsize=(10,7), ylabel='', title='Percentage of Bikes Rented by Day Time')"
   ]
  },
  {
   "cell_type": "markdown",
   "id": "36776a2a",
   "metadata": {},
   "source": [
    "It's obvious people don't really like to ride after dark"
   ]
  },
  {
   "cell_type": "markdown",
   "id": "274107cd",
   "metadata": {},
   "source": [
    "### Trends of rented bikes by hour"
   ]
  },
  {
   "cell_type": "code",
   "execution_count": 29,
   "id": "f37ba014",
   "metadata": {},
   "outputs": [
    {
     "data": {
      "text/html": [
       "<div>\n",
       "<style scoped>\n",
       "    .dataframe tbody tr th:only-of-type {\n",
       "        vertical-align: middle;\n",
       "    }\n",
       "\n",
       "    .dataframe tbody tr th {\n",
       "        vertical-align: top;\n",
       "    }\n",
       "\n",
       "    .dataframe thead th {\n",
       "        text-align: right;\n",
       "    }\n",
       "</style>\n",
       "<table border=\"1\" class=\"dataframe\">\n",
       "  <thead>\n",
       "    <tr style=\"text-align: right;\">\n",
       "      <th></th>\n",
       "      <th>rented_bike_count</th>\n",
       "    </tr>\n",
       "    <tr>\n",
       "      <th>hour</th>\n",
       "      <th></th>\n",
       "    </tr>\n",
       "  </thead>\n",
       "  <tbody>\n",
       "    <tr>\n",
       "      <th>0</th>\n",
       "      <td>197633</td>\n",
       "    </tr>\n",
       "    <tr>\n",
       "      <th>1</th>\n",
       "      <td>155557</td>\n",
       "    </tr>\n",
       "    <tr>\n",
       "      <th>2</th>\n",
       "      <td>110095</td>\n",
       "    </tr>\n",
       "    <tr>\n",
       "      <th>3</th>\n",
       "      <td>74216</td>\n",
       "    </tr>\n",
       "    <tr>\n",
       "      <th>4</th>\n",
       "      <td>48396</td>\n",
       "    </tr>\n",
       "    <tr>\n",
       "      <th>5</th>\n",
       "      <td>50765</td>\n",
       "    </tr>\n",
       "    <tr>\n",
       "      <th>6</th>\n",
       "      <td>104961</td>\n",
       "    </tr>\n",
       "    <tr>\n",
       "      <th>7</th>\n",
       "      <td>221192</td>\n",
       "    </tr>\n",
       "    <tr>\n",
       "      <th>8</th>\n",
       "      <td>370731</td>\n",
       "    </tr>\n",
       "    <tr>\n",
       "      <th>9</th>\n",
       "      <td>235784</td>\n",
       "    </tr>\n",
       "    <tr>\n",
       "      <th>10</th>\n",
       "      <td>192655</td>\n",
       "    </tr>\n",
       "    <tr>\n",
       "      <th>11</th>\n",
       "      <td>219311</td>\n",
       "    </tr>\n",
       "    <tr>\n",
       "      <th>12</th>\n",
       "      <td>255296</td>\n",
       "    </tr>\n",
       "    <tr>\n",
       "      <th>13</th>\n",
       "      <td>267635</td>\n",
       "    </tr>\n",
       "    <tr>\n",
       "      <th>14</th>\n",
       "      <td>276971</td>\n",
       "    </tr>\n",
       "    <tr>\n",
       "      <th>15</th>\n",
       "      <td>302653</td>\n",
       "    </tr>\n",
       "    <tr>\n",
       "      <th>16</th>\n",
       "      <td>339677</td>\n",
       "    </tr>\n",
       "    <tr>\n",
       "      <th>17</th>\n",
       "      <td>415556</td>\n",
       "    </tr>\n",
       "    <tr>\n",
       "      <th>18</th>\n",
       "      <td>548568</td>\n",
       "    </tr>\n",
       "    <tr>\n",
       "      <th>19</th>\n",
       "      <td>436229</td>\n",
       "    </tr>\n",
       "    <tr>\n",
       "      <th>20</th>\n",
       "      <td>390172</td>\n",
       "    </tr>\n",
       "    <tr>\n",
       "      <th>21</th>\n",
       "      <td>376479</td>\n",
       "    </tr>\n",
       "    <tr>\n",
       "      <th>22</th>\n",
       "      <td>336821</td>\n",
       "    </tr>\n",
       "    <tr>\n",
       "      <th>23</th>\n",
       "      <td>244961</td>\n",
       "    </tr>\n",
       "  </tbody>\n",
       "</table>\n",
       "</div>"
      ],
      "text/plain": [
       "      rented_bike_count\n",
       "hour                   \n",
       "0                197633\n",
       "1                155557\n",
       "2                110095\n",
       "3                 74216\n",
       "4                 48396\n",
       "5                 50765\n",
       "6                104961\n",
       "7                221192\n",
       "8                370731\n",
       "9                235784\n",
       "10               192655\n",
       "11               219311\n",
       "12               255296\n",
       "13               267635\n",
       "14               276971\n",
       "15               302653\n",
       "16               339677\n",
       "17               415556\n",
       "18               548568\n",
       "19               436229\n",
       "20               390172\n",
       "21               376479\n",
       "22               336821\n",
       "23               244961"
      ]
     },
     "execution_count": 29,
     "metadata": {},
     "output_type": "execute_result"
    }
   ],
   "source": [
    "# trends of rented bikes by hour\n",
    "hr = bike_df.pivot_table(index='hour', values='rented_bike_count', aggfunc=np.sum)\n",
    "hr"
   ]
  },
  {
   "cell_type": "code",
   "execution_count": 30,
   "id": "dfff7f0b",
   "metadata": {},
   "outputs": [
    {
     "data": {
      "text/plain": [
       "Text(0, 0.5, 'Total Bikes')"
      ]
     },
     "execution_count": 30,
     "metadata": {},
     "output_type": "execute_result"
    },
    {
     "data": {
      "image/png": "[encoded data removed]",
      "text/plain": [
       "<Figure size 720x576 with 1 Axes>"
      ]
     },
     "metadata": {},
     "output_type": "display_data"
    }
   ],
   "source": [
    "fig, ax= plt.subplots(figsize=(10,8))\n",
    "sns.lineplot(data=hr, x='hour',y='rented_bike_count', color='b', marker= '*',ax=ax)\n",
    "plt.xlim(0,25)\n",
    "plt.annotate('8 AM',xy=(8,370731),xytext=(7.5,390000))\n",
    "plt.annotate('6 PM',xy=(18,548568),xytext=(17.5,560000))\n",
    "plt.title('Hourly Trends of Bikes Rented')\n",
    "plt.xlabel('Hour')\n",
    "plt.ylabel('Total Bikes')"
   ]
  },
  {
   "cell_type": "markdown",
   "id": "fa322aea",
   "metadata": {},
   "source": [
    "Observation: Our hourly trend graph seems to peaked at 2 seperate hour, which are 8 AM and 6 PM, this likely signifies bikes rented by people to and from work."
   ]
  },
  {
   "cell_type": "markdown",
   "id": "cded84e7",
   "metadata": {},
   "source": [
    "### Trends of rented bikes by hour and  season"
   ]
  },
  {
   "cell_type": "code",
   "execution_count": 31,
   "id": "350a77fa",
   "metadata": {},
   "outputs": [
    {
     "data": {
      "text/html": [
       "<div>\n",
       "<style scoped>\n",
       "    .dataframe tbody tr th:only-of-type {\n",
       "        vertical-align: middle;\n",
       "    }\n",
       "\n",
       "    .dataframe tbody tr th {\n",
       "        vertical-align: top;\n",
       "    }\n",
       "\n",
       "    .dataframe thead th {\n",
       "        text-align: right;\n",
       "    }\n",
       "</style>\n",
       "<table border=\"1\" class=\"dataframe\">\n",
       "  <thead>\n",
       "    <tr style=\"text-align: right;\">\n",
       "      <th>seasons</th>\n",
       "      <th>Autumn</th>\n",
       "      <th>Spring</th>\n",
       "      <th>Summer</th>\n",
       "      <th>Winter</th>\n",
       "    </tr>\n",
       "    <tr>\n",
       "      <th>hour</th>\n",
       "      <th></th>\n",
       "      <th></th>\n",
       "      <th></th>\n",
       "      <th></th>\n",
       "    </tr>\n",
       "  </thead>\n",
       "  <tbody>\n",
       "    <tr>\n",
       "      <th>0</th>\n",
       "      <td>56755</td>\n",
       "      <td>43298</td>\n",
       "      <td>82714</td>\n",
       "      <td>14866</td>\n",
       "    </tr>\n",
       "    <tr>\n",
       "      <th>1</th>\n",
       "      <td>44200</td>\n",
       "      <td>32755</td>\n",
       "      <td>64287</td>\n",
       "      <td>14315</td>\n",
       "    </tr>\n",
       "    <tr>\n",
       "      <th>2</th>\n",
       "      <td>30198</td>\n",
       "      <td>22767</td>\n",
       "      <td>46529</td>\n",
       "      <td>10601</td>\n",
       "    </tr>\n",
       "    <tr>\n",
       "      <th>3</th>\n",
       "      <td>20524</td>\n",
       "      <td>15163</td>\n",
       "      <td>31526</td>\n",
       "      <td>7003</td>\n",
       "    </tr>\n",
       "    <tr>\n",
       "      <th>4</th>\n",
       "      <td>13522</td>\n",
       "      <td>9740</td>\n",
       "      <td>20591</td>\n",
       "      <td>4543</td>\n",
       "    </tr>\n",
       "    <tr>\n",
       "      <th>5</th>\n",
       "      <td>13073</td>\n",
       "      <td>10456</td>\n",
       "      <td>22626</td>\n",
       "      <td>4610</td>\n",
       "    </tr>\n",
       "    <tr>\n",
       "      <th>6</th>\n",
       "      <td>28759</td>\n",
       "      <td>23151</td>\n",
       "      <td>44697</td>\n",
       "      <td>8354</td>\n",
       "    </tr>\n",
       "    <tr>\n",
       "      <th>7</th>\n",
       "      <td>63899</td>\n",
       "      <td>55376</td>\n",
       "      <td>83056</td>\n",
       "      <td>18861</td>\n",
       "    </tr>\n",
       "    <tr>\n",
       "      <th>8</th>\n",
       "      <td>108948</td>\n",
       "      <td>93274</td>\n",
       "      <td>130511</td>\n",
       "      <td>37998</td>\n",
       "    </tr>\n",
       "    <tr>\n",
       "      <th>9</th>\n",
       "      <td>68723</td>\n",
       "      <td>60335</td>\n",
       "      <td>83812</td>\n",
       "      <td>22914</td>\n",
       "    </tr>\n",
       "    <tr>\n",
       "      <th>10</th>\n",
       "      <td>57937</td>\n",
       "      <td>51380</td>\n",
       "      <td>66562</td>\n",
       "      <td>16776</td>\n",
       "    </tr>\n",
       "    <tr>\n",
       "      <th>11</th>\n",
       "      <td>65039</td>\n",
       "      <td>61332</td>\n",
       "      <td>72391</td>\n",
       "      <td>20549</td>\n",
       "    </tr>\n",
       "    <tr>\n",
       "      <th>12</th>\n",
       "      <td>75706</td>\n",
       "      <td>75274</td>\n",
       "      <td>80589</td>\n",
       "      <td>23727</td>\n",
       "    </tr>\n",
       "    <tr>\n",
       "      <th>13</th>\n",
       "      <td>81216</td>\n",
       "      <td>79748</td>\n",
       "      <td>81898</td>\n",
       "      <td>24773</td>\n",
       "    </tr>\n",
       "    <tr>\n",
       "      <th>14</th>\n",
       "      <td>85765</td>\n",
       "      <td>83310</td>\n",
       "      <td>82310</td>\n",
       "      <td>25586</td>\n",
       "    </tr>\n",
       "    <tr>\n",
       "      <th>15</th>\n",
       "      <td>93693</td>\n",
       "      <td>89188</td>\n",
       "      <td>92894</td>\n",
       "      <td>26878</td>\n",
       "    </tr>\n",
       "    <tr>\n",
       "      <th>16</th>\n",
       "      <td>104750</td>\n",
       "      <td>99131</td>\n",
       "      <td>108024</td>\n",
       "      <td>27772</td>\n",
       "    </tr>\n",
       "    <tr>\n",
       "      <th>17</th>\n",
       "      <td>126593</td>\n",
       "      <td>117718</td>\n",
       "      <td>140419</td>\n",
       "      <td>30826</td>\n",
       "    </tr>\n",
       "    <tr>\n",
       "      <th>18</th>\n",
       "      <td>160650</td>\n",
       "      <td>152038</td>\n",
       "      <td>196433</td>\n",
       "      <td>39447</td>\n",
       "    </tr>\n",
       "    <tr>\n",
       "      <th>19</th>\n",
       "      <td>122761</td>\n",
       "      <td>112294</td>\n",
       "      <td>173811</td>\n",
       "      <td>27363</td>\n",
       "    </tr>\n",
       "    <tr>\n",
       "      <th>20</th>\n",
       "      <td>107058</td>\n",
       "      <td>95446</td>\n",
       "      <td>165777</td>\n",
       "      <td>21891</td>\n",
       "    </tr>\n",
       "    <tr>\n",
       "      <th>21</th>\n",
       "      <td>101559</td>\n",
       "      <td>91901</td>\n",
       "      <td>161374</td>\n",
       "      <td>21645</td>\n",
       "    </tr>\n",
       "    <tr>\n",
       "      <th>22</th>\n",
       "      <td>91547</td>\n",
       "      <td>80768</td>\n",
       "      <td>144244</td>\n",
       "      <td>20262</td>\n",
       "    </tr>\n",
       "    <tr>\n",
       "      <th>23</th>\n",
       "      <td>67127</td>\n",
       "      <td>56066</td>\n",
       "      <td>106159</td>\n",
       "      <td>15609</td>\n",
       "    </tr>\n",
       "  </tbody>\n",
       "</table>\n",
       "</div>"
      ],
      "text/plain": [
       "seasons  Autumn  Spring  Summer  Winter\n",
       "hour                                   \n",
       "0         56755   43298   82714   14866\n",
       "1         44200   32755   64287   14315\n",
       "2         30198   22767   46529   10601\n",
       "3         20524   15163   31526    7003\n",
       "4         13522    9740   20591    4543\n",
       "5         13073   10456   22626    4610\n",
       "6         28759   23151   44697    8354\n",
       "7         63899   55376   83056   18861\n",
       "8        108948   93274  130511   37998\n",
       "9         68723   60335   83812   22914\n",
       "10        57937   51380   66562   16776\n",
       "11        65039   61332   72391   20549\n",
       "12        75706   75274   80589   23727\n",
       "13        81216   79748   81898   24773\n",
       "14        85765   83310   82310   25586\n",
       "15        93693   89188   92894   26878\n",
       "16       104750   99131  108024   27772\n",
       "17       126593  117718  140419   30826\n",
       "18       160650  152038  196433   39447\n",
       "19       122761  112294  173811   27363\n",
       "20       107058   95446  165777   21891\n",
       "21       101559   91901  161374   21645\n",
       "22        91547   80768  144244   20262\n",
       "23        67127   56066  106159   15609"
      ]
     },
     "execution_count": 31,
     "metadata": {},
     "output_type": "execute_result"
    }
   ],
   "source": [
    "# trends of rented bikes by hour and season\n",
    "season_hr = bike_df.pivot_table(index='hour',columns='seasons',values='rented_bike_count', aggfunc=np.sum)\n",
    "season_hr"
   ]
  },
  {
   "cell_type": "code",
   "execution_count": 32,
   "id": "4bbfc5ff",
   "metadata": {},
   "outputs": [
    {
     "data": {
      "text/plain": [
       "Text(0, 0.5, 'Total Bikes')"
      ]
     },
     "execution_count": 32,
     "metadata": {},
     "output_type": "execute_result"
    },
    {
     "data": {
      "image/png": "[encoded data removed]",
      "text/plain": [
       "<Figure size 720x576 with 1 Axes>"
      ]
     },
     "metadata": {},
     "output_type": "display_data"
    }
   ],
   "source": [
    "fig= plt.figure(figsize=(10,8))\n",
    "sns.lineplot(data=season_hr, x='hour',y='Autumn', color='b', marker= '*',label='Autumn')\n",
    "sns.lineplot(data=season_hr, x='hour',y='Spring', color='Orange', marker= '+',label='Spring')\n",
    "sns.lineplot(data=season_hr, x='hour',y='Summer', color='green', marker= '*',label='Summer')\n",
    "sns.lineplot(data=season_hr, x='hour',y='Winter', color='m', marker= '*',label='Winter')\n",
    "plt.legend(title='Seasons')\n",
    "plt.title('Hourly Trends of Bikes Rented By Season')\n",
    "plt.xlabel('Hour')\n",
    "plt.ylabel('Total Bikes')"
   ]
  },
  {
   "cell_type": "markdown",
   "id": "95a845e2",
   "metadata": {},
   "source": [
    "Observation: Generally more people tends to rent bikes and ride even later than any other seasons. Winter has the least number of riders, even I wouldn't want to ride a bike in that weather."
   ]
  },
  {
   "cell_type": "markdown",
   "id": "9ec30908",
   "metadata": {},
   "source": [
    "### Direction and Relationship between Features"
   ]
  },
  {
   "cell_type": "code",
   "execution_count": 33,
   "id": "917c1717",
   "metadata": {},
   "outputs": [],
   "source": [
    "correlation = bike_df.corr()"
   ]
  },
  {
   "cell_type": "code",
   "execution_count": 46,
   "id": "fcb08c86",
   "metadata": {},
   "outputs": [
    {
     "data": {
      "text/plain": [
       "Text(0.5, 1.05, 'Heatmap Showing Strength and Direction of Correlation')"
      ]
     },
     "execution_count": 46,
     "metadata": {},
     "output_type": "execute_result"
    },
    {
     "data": {
      "image/png": "[encoded data removed]",
      "text/plain": [
       "<Figure size 864x720 with 2 Axes>"
      ]
     },
     "metadata": {},
     "output_type": "display_data"
    }
   ],
   "source": [
    "fig,ax= plt.subplots(figsize=(12,10))\n",
    "sns.heatmap(data=correlation, annot=True,cmap='rainbow',cbar=True,fmt='.1f')\n",
    "plt.title('Heatmap Showing Strength and Direction of Correlation', fontsize= 15, weight='bold', y=1.05)"
   ]
  },
  {
   "cell_type": "markdown",
   "id": "e268c2f3",
   "metadata": {},
   "source": [
    "Observation: There seems to be a weak positve relationship between counts of rented bikes and hour, temperature respectively."
   ]
  },
  {
   "cell_type": "markdown",
   "id": "54d2c64b",
   "metadata": {},
   "source": [
    "# Simple Linear Regression\n",
    "### This is a simple linear regression to check whether the tempersture can accurately predict a linear relationship with the amount of bikes rented"
   ]
  },
  {
   "cell_type": "code",
   "execution_count": 35,
   "id": "5fbe145c",
   "metadata": {},
   "outputs": [],
   "source": [
    "bike= bike_df.copy()"
   ]
  },
  {
   "cell_type": "code",
   "execution_count": 36,
   "id": "23174a6d",
   "metadata": {},
   "outputs": [
    {
     "data": {
      "text/plain": [
       "<AxesSubplot:xlabel='temperature', ylabel='rented_bike_count'>"
      ]
     },
     "execution_count": 36,
     "metadata": {},
     "output_type": "execute_result"
    },
    {
     "data": {
      "image/png": "[encoded data removed]",
      "text/plain": [
       "<Figure size 432x288 with 1 Axes>"
      ]
     },
     "metadata": {},
     "output_type": "display_data"
    }
   ],
   "source": [
    "sns.regplot(data=bike, x='temperature',y='rented_bike_count', ci=None)"
   ]
  },
  {
   "cell_type": "code",
   "execution_count": 37,
   "id": "aaac2c19",
   "metadata": {},
   "outputs": [
    {
     "data": {
      "text/plain": [
       "<AxesSubplot:xlabel='temperature', ylabel='rented_bike_count'>"
      ]
     },
     "execution_count": 37,
     "metadata": {},
     "output_type": "execute_result"
    },
    {
     "data": {
      "image/png": "[encoded data removed]",
      "text/plain": [
       "<Figure size 432x288 with 1 Axes>"
      ]
     },
     "metadata": {},
     "output_type": "display_data"
    }
   ],
   "source": [
    "sns.residplot(data=bike, x='temperature',y='rented_bike_count', lowess=True)"
   ]
  },
  {
   "cell_type": "code",
   "execution_count": 38,
   "id": "51c0adcc",
   "metadata": {},
   "outputs": [
    {
     "data": {
      "text/html": [
       "<table class=\"simpletable\">\n",
       "<caption>OLS Regression Results</caption>\n",
       "<tr>\n",
       "  <th>Dep. Variable:</th>    <td>rented_bike_count</td> <th>  R-squared:         </th> <td>   0.290</td> \n",
       "</tr>\n",
       "<tr>\n",
       "  <th>Model:</th>                   <td>OLS</td>        <th>  Adj. R-squared:    </th> <td>   0.290</td> \n",
       "</tr>\n",
       "<tr>\n",
       "  <th>Method:</th>             <td>Least Squares</td>   <th>  F-statistic:       </th> <td>   3578.</td> \n",
       "</tr>\n",
       "<tr>\n",
       "  <th>Date:</th>             <td>Fri, 07 Apr 2023</td>  <th>  Prob (F-statistic):</th>  <td>  0.00</td>  \n",
       "</tr>\n",
       "<tr>\n",
       "  <th>Time:</th>                 <td>12:33:29</td>      <th>  Log-Likelihood:    </th> <td> -67600.</td> \n",
       "</tr>\n",
       "<tr>\n",
       "  <th>No. Observations:</th>      <td>  8760</td>       <th>  AIC:               </th> <td>1.352e+05</td>\n",
       "</tr>\n",
       "<tr>\n",
       "  <th>Df Residuals:</th>          <td>  8758</td>       <th>  BIC:               </th> <td>1.352e+05</td>\n",
       "</tr>\n",
       "<tr>\n",
       "  <th>Df Model:</th>              <td>     1</td>       <th>                     </th>     <td> </td>    \n",
       "</tr>\n",
       "<tr>\n",
       "  <th>Covariance Type:</th>      <td>nonrobust</td>     <th>                     </th>     <td> </td>    \n",
       "</tr>\n",
       "</table>\n",
       "<table class=\"simpletable\">\n",
       "<tr>\n",
       "       <td></td>          <th>coef</th>     <th>std err</th>      <th>t</th>      <th>P>|t|</th>  <th>[0.025</th>    <th>0.975]</th>  \n",
       "</tr>\n",
       "<tr>\n",
       "  <th>Intercept</th>   <td>  329.9525</td> <td>    8.541</td> <td>   38.631</td> <td> 0.000</td> <td>  313.210</td> <td>  346.695</td>\n",
       "</tr>\n",
       "<tr>\n",
       "  <th>temperature</th> <td>   29.0811</td> <td>    0.486</td> <td>   59.816</td> <td> 0.000</td> <td>   28.128</td> <td>   30.034</td>\n",
       "</tr>\n",
       "</table>\n",
       "<table class=\"simpletable\">\n",
       "<tr>\n",
       "  <th>Omnibus:</th>       <td>954.681</td> <th>  Durbin-Watson:     </th> <td>   0.271</td> \n",
       "</tr>\n",
       "<tr>\n",
       "  <th>Prob(Omnibus):</th> <td> 0.000</td>  <th>  Jarque-Bera (JB):  </th> <td>1421.965</td> \n",
       "</tr>\n",
       "<tr>\n",
       "  <th>Skew:</th>          <td> 0.817</td>  <th>  Prob(JB):          </th> <td>1.68e-309</td>\n",
       "</tr>\n",
       "<tr>\n",
       "  <th>Kurtosis:</th>      <td> 4.108</td>  <th>  Cond. No.          </th> <td>    25.9</td> \n",
       "</tr>\n",
       "</table><br/><br/>Notes:<br/>[1] Standard Errors assume that the covariance matrix of the errors is correctly specified."
      ],
      "text/plain": [
       "<class 'statsmodels.iolib.summary.Summary'>\n",
       "\"\"\"\n",
       "                            OLS Regression Results                            \n",
       "==============================================================================\n",
       "Dep. Variable:      rented_bike_count   R-squared:                       0.290\n",
       "Model:                            OLS   Adj. R-squared:                  0.290\n",
       "Method:                 Least Squares   F-statistic:                     3578.\n",
       "Date:                Fri, 07 Apr 2023   Prob (F-statistic):               0.00\n",
       "Time:                        12:33:29   Log-Likelihood:                -67600.\n",
       "No. Observations:                8760   AIC:                         1.352e+05\n",
       "Df Residuals:                    8758   BIC:                         1.352e+05\n",
       "Df Model:                           1                                         \n",
       "Covariance Type:            nonrobust                                         \n",
       "===============================================================================\n",
       "                  coef    std err          t      P>|t|      [0.025      0.975]\n",
       "-------------------------------------------------------------------------------\n",
       "Intercept     329.9525      8.541     38.631      0.000     313.210     346.695\n",
       "temperature    29.0811      0.486     59.816      0.000      28.128      30.034\n",
       "==============================================================================\n",
       "Omnibus:                      954.681   Durbin-Watson:                   0.271\n",
       "Prob(Omnibus):                  0.000   Jarque-Bera (JB):             1421.965\n",
       "Skew:                           0.817   Prob(JB):                    1.68e-309\n",
       "Kurtosis:                       4.108   Cond. No.                         25.9\n",
       "==============================================================================\n",
       "\n",
       "Notes:\n",
       "[1] Standard Errors assume that the covariance matrix of the errors is correctly specified.\n",
       "\"\"\""
      ]
     },
     "execution_count": 38,
     "metadata": {},
     "output_type": "execute_result"
    }
   ],
   "source": [
    "# MOdel\n",
    "model = ols('rented_bike_count ~ temperature', data=bike).fit()\n",
    "model.params\n",
    "model.summary()"
   ]
  },
  {
   "cell_type": "code",
   "execution_count": 52,
   "id": "b3b88a87",
   "metadata": {},
   "outputs": [
    {
     "name": "stdout",
     "output_type": "stream",
     "text": [
      "The model has a weak and low fit of 0.29, suggesting that response variable (rented bike count) cannot be accuractely predicted by the explanatory variable(temperature)\n"
     ]
    }
   ],
   "source": [
    "print(f'The model has a weak and low fit of {np.round(model.rsquared,3)}, suggesting that response variable (rented bike count) cannot be accuractely predicted by the explanatory variable(temperature)')"
   ]
  },
  {
   "cell_type": "code",
   "execution_count": 39,
   "id": "065edcd2",
   "metadata": {},
   "outputs": [
    {
     "data": {
      "text/plain": [
       "0        75.269201\n",
       "1        33.993530\n",
       "2        17.534080\n",
       "3       -42.649700\n",
       "4       -77.465920\n",
       "           ...    \n",
       "8755    550.906870\n",
       "8756    335.171749\n",
       "8757    288.436629\n",
       "8758    320.977178\n",
       "8759    198.793398\n",
       "Length: 8760, dtype: float64"
      ]
     },
     "execution_count": 39,
     "metadata": {},
     "output_type": "execute_result"
    }
   ],
   "source": [
    "model.resid"
   ]
  },
  {
   "cell_type": "code",
   "execution_count": 40,
   "id": "b65ef095",
   "metadata": {},
   "outputs": [
    {
     "data": {
      "image/png": "[encoded data removed]",
      "text/plain": [
       "<Figure size 432x288 with 1 Axes>"
      ]
     },
     "execution_count": 40,
     "metadata": {},
     "output_type": "execute_result"
    },
    {
     "data": {
      "image/png": "[encoded data removed]",
      "text/plain": [
       "<Figure size 432x288 with 1 Axes>"
      ]
     },
     "metadata": {},
     "output_type": "display_data"
    }
   ],
   "source": [
    "qqplot(data=model.resid, fit=True, line='45')"
   ]
  },
  {
   "cell_type": "markdown",
   "id": "cadd7dd8",
   "metadata": {},
   "source": [
    "Observation: The model residual does not make a good fit, so therefore, a more complicated multiexplanatory variables linear regression is need for this analysis."
   ]
  },
  {
   "cell_type": "markdown",
   "id": "85c49658",
   "metadata": {},
   "source": [
    "## Leverage and Influence"
   ]
  },
  {
   "cell_type": "code",
   "execution_count": 74,
   "id": "ac547322",
   "metadata": {},
   "outputs": [],
   "source": [
    "summary_model = model.get_influence().summary_frame()\n",
    "bike['leverage'] = summary_model['hat_diag']\n",
    "bike['cooks_dist'] = summary_model['cooks_d']"
   ]
  },
  {
   "cell_type": "code",
   "execution_count": 81,
   "id": "2536943f",
   "metadata": {},
   "outputs": [
    {
     "data": {
      "text/html": [
       "<div>\n",
       "<style scoped>\n",
       "    .dataframe tbody tr th:only-of-type {\n",
       "        vertical-align: middle;\n",
       "    }\n",
       "\n",
       "    .dataframe tbody tr th {\n",
       "        vertical-align: top;\n",
       "    }\n",
       "\n",
       "    .dataframe thead th {\n",
       "        text-align: right;\n",
       "    }\n",
       "</style>\n",
       "<table border=\"1\" class=\"dataframe\">\n",
       "  <thead>\n",
       "    <tr style=\"text-align: right;\">\n",
       "      <th></th>\n",
       "      <th>temperature</th>\n",
       "      <th>rented_bike_count</th>\n",
       "      <th>leverage</th>\n",
       "      <th>cooks_dist</th>\n",
       "    </tr>\n",
       "  </thead>\n",
       "  <tbody>\n",
       "    <tr>\n",
       "      <th>0</th>\n",
       "      <td>-5.2</td>\n",
       "      <td>254</td>\n",
       "      <td>0.000376</td>\n",
       "      <td>3.606609e-06</td>\n",
       "    </tr>\n",
       "    <tr>\n",
       "      <th>1</th>\n",
       "      <td>-5.5</td>\n",
       "      <td>204</td>\n",
       "      <td>0.000385</td>\n",
       "      <td>7.527742e-07</td>\n",
       "    </tr>\n",
       "    <tr>\n",
       "      <th>2</th>\n",
       "      <td>-6.0</td>\n",
       "      <td>173</td>\n",
       "      <td>0.000399</td>\n",
       "      <td>2.080514e-07</td>\n",
       "    </tr>\n",
       "    <tr>\n",
       "      <th>3</th>\n",
       "      <td>-6.2</td>\n",
       "      <td>107</td>\n",
       "      <td>0.000406</td>\n",
       "      <td>1.249677e-06</td>\n",
       "    </tr>\n",
       "    <tr>\n",
       "      <th>4</th>\n",
       "      <td>-6.0</td>\n",
       "      <td>78</td>\n",
       "      <td>0.000399</td>\n",
       "      <td>4.060936e-06</td>\n",
       "    </tr>\n",
       "    <tr>\n",
       "      <th>...</th>\n",
       "      <td>...</td>\n",
       "      <td>...</td>\n",
       "      <td>...</td>\n",
       "      <td>...</td>\n",
       "    </tr>\n",
       "    <tr>\n",
       "      <th>8755</th>\n",
       "      <td>4.2</td>\n",
       "      <td>1003</td>\n",
       "      <td>0.000174</td>\n",
       "      <td>8.966744e-05</td>\n",
       "    </tr>\n",
       "    <tr>\n",
       "      <th>8756</th>\n",
       "      <td>3.4</td>\n",
       "      <td>764</td>\n",
       "      <td>0.000186</td>\n",
       "      <td>3.540331e-05</td>\n",
       "    </tr>\n",
       "    <tr>\n",
       "      <th>8757</th>\n",
       "      <td>2.6</td>\n",
       "      <td>694</td>\n",
       "      <td>0.000199</td>\n",
       "      <td>2.800182e-05</td>\n",
       "    </tr>\n",
       "    <tr>\n",
       "      <th>8758</th>\n",
       "      <td>2.1</td>\n",
       "      <td>712</td>\n",
       "      <td>0.000207</td>\n",
       "      <td>3.614737e-05</td>\n",
       "    </tr>\n",
       "    <tr>\n",
       "      <th>8759</th>\n",
       "      <td>1.9</td>\n",
       "      <td>584</td>\n",
       "      <td>0.000211</td>\n",
       "      <td>1.409860e-05</td>\n",
       "    </tr>\n",
       "  </tbody>\n",
       "</table>\n",
       "<p>8760 rows × 4 columns</p>\n",
       "</div>"
      ],
      "text/plain": [
       "      temperature  rented_bike_count  leverage    cooks_dist\n",
       "0            -5.2                254  0.000376  3.606609e-06\n",
       "1            -5.5                204  0.000385  7.527742e-07\n",
       "2            -6.0                173  0.000399  2.080514e-07\n",
       "3            -6.2                107  0.000406  1.249677e-06\n",
       "4            -6.0                 78  0.000399  4.060936e-06\n",
       "...           ...                ...       ...           ...\n",
       "8755          4.2               1003  0.000174  8.966744e-05\n",
       "8756          3.4                764  0.000186  3.540331e-05\n",
       "8757          2.6                694  0.000199  2.800182e-05\n",
       "8758          2.1                712  0.000207  3.614737e-05\n",
       "8759          1.9                584  0.000211  1.409860e-05\n",
       "\n",
       "[8760 rows x 4 columns]"
      ]
     },
     "execution_count": 81,
     "metadata": {},
     "output_type": "execute_result"
    }
   ],
   "source": [
    "bike[['temperature','rented_bike_count','leverage','cooks_dist']]"
   ]
  }
 ],
 "metadata": {
  "kernelspec": {
   "display_name": "Python 3",
   "language": "python",
   "name": "python3"
  },
  "language_info": {
   "codemirror_mode": {
    "name": "ipython",
    "version": 3
   },
   "file_extension": ".py",
   "mimetype": "text/x-python",
   "name": "python",
   "nbconvert_exporter": "python",
   "pygments_lexer": "ipython3",
   "version": "3.8.8"
  }
 },
 "nbformat": 4,
 "nbformat_minor": 5
}
